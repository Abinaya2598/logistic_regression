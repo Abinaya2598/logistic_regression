{
  "nbformat": 4,
  "nbformat_minor": 0,
  "metadata": {
    "colab": {
      "name": "Copy of Logistic_Regression_Assignment12.ipynb",
      "provenance": [],
      "collapsed_sections": []
    },
    "kernelspec": {
      "name": "python3",
      "display_name": "Python 3"
    },
    "language_info": {
      "name": "python"
    }
  },
  "cells": [
    {
      "cell_type": "code",
      "metadata": {
        "id": "xugUQsM_jkbL"
      },
      "source": [
        " # Social_Network_Ads.csv"
      ],
      "execution_count": 93,
      "outputs": []
    },
    {
      "cell_type": "markdown",
      "metadata": {
        "id": "t_YJ-uqLmRuD"
      },
      "source": [
        "This dataset contains information of users in a social network. Those informations are the user id the gender the age and the estimated salary. A car company has just launched their brand new luxury SUV. And we're trying to see which of these users of the social network are going to buy this brand new SUV And the last column here tells If yes or no the user bought this SUV we are going to build a model that is going to predict if a user is going to buy or not the SUV based on two variables which are going to be the age and the estimated salary. So our matrix of feature is only going to be these two columns. We want to find some correlations between the age and the estimated salary of a user and his decision to purchase yes or no the SUV.\n"
      ]
    },
    {
      "cell_type": "markdown",
      "metadata": {
        "id": "sgTgwccsk5Yu"
      },
      "source": [
        "**Step 1 | Data Pre-Processing**"
      ]
    },
    {
      "cell_type": "markdown",
      "metadata": {
        "id": "bKWN0MOblEKa"
      },
      "source": [
        "**Importing the Libraries**"
      ]
    },
    {
      "cell_type": "code",
      "metadata": {
        "id": "8cIjONoJj8u0"
      },
      "source": [
        "import pandas as pd\n",
        "import numpy as np\n",
        "from sklearn.model_selection import train_test_split\n",
        "from sklearn import metrics\n",
        "import seaborn as sn\n",
        "import matplotlib.pyplot as plt"
      ],
      "execution_count": 94,
      "outputs": []
    },
    {
      "cell_type": "code",
      "metadata": {
        "id": "2QZwg6ypj8xs"
      },
      "source": [
        ""
      ],
      "execution_count": 94,
      "outputs": []
    },
    {
      "cell_type": "markdown",
      "metadata": {
        "id": "bM9O8a0YlNWk"
      },
      "source": [
        "**Importing the dataset**"
      ]
    },
    {
      "cell_type": "code",
      "metadata": {
        "id": "vfPLWJHRlM-4"
      },
      "source": [
        "df=pd.read_csv('/content/Social_Network_Ads.csv')"
      ],
      "execution_count": 95,
      "outputs": []
    },
    {
      "cell_type": "code",
      "metadata": {
        "id": "8LWipIjDj7yn",
        "colab": {
          "base_uri": "https://localhost:8080/",
          "height": 206
        },
        "outputId": "1f3159d9-81d8-48ca-9aa5-5133af1f3079"
      },
      "source": [
        "df.head()"
      ],
      "execution_count": 96,
      "outputs": [
        {
          "output_type": "execute_result",
          "data": {
            "text/plain": [
              "    User ID  Gender  Age  EstimatedSalary  Purchased\n",
              "0  15624510    Male   19            19000          0\n",
              "1  15810944    Male   35            20000          0\n",
              "2  15668575  Female   26            43000          0\n",
              "3  15603246  Female   27            57000          0\n",
              "4  15804002    Male   19            76000          0"
            ],
            "text/html": [
              "\n",
              "  <div id=\"df-e7c7242f-f238-4bd7-9c73-e933459621f7\">\n",
              "    <div class=\"colab-df-container\">\n",
              "      <div>\n",
              "<style scoped>\n",
              "    .dataframe tbody tr th:only-of-type {\n",
              "        vertical-align: middle;\n",
              "    }\n",
              "\n",
              "    .dataframe tbody tr th {\n",
              "        vertical-align: top;\n",
              "    }\n",
              "\n",
              "    .dataframe thead th {\n",
              "        text-align: right;\n",
              "    }\n",
              "</style>\n",
              "<table border=\"1\" class=\"dataframe\">\n",
              "  <thead>\n",
              "    <tr style=\"text-align: right;\">\n",
              "      <th></th>\n",
              "      <th>User ID</th>\n",
              "      <th>Gender</th>\n",
              "      <th>Age</th>\n",
              "      <th>EstimatedSalary</th>\n",
              "      <th>Purchased</th>\n",
              "    </tr>\n",
              "  </thead>\n",
              "  <tbody>\n",
              "    <tr>\n",
              "      <th>0</th>\n",
              "      <td>15624510</td>\n",
              "      <td>Male</td>\n",
              "      <td>19</td>\n",
              "      <td>19000</td>\n",
              "      <td>0</td>\n",
              "    </tr>\n",
              "    <tr>\n",
              "      <th>1</th>\n",
              "      <td>15810944</td>\n",
              "      <td>Male</td>\n",
              "      <td>35</td>\n",
              "      <td>20000</td>\n",
              "      <td>0</td>\n",
              "    </tr>\n",
              "    <tr>\n",
              "      <th>2</th>\n",
              "      <td>15668575</td>\n",
              "      <td>Female</td>\n",
              "      <td>26</td>\n",
              "      <td>43000</td>\n",
              "      <td>0</td>\n",
              "    </tr>\n",
              "    <tr>\n",
              "      <th>3</th>\n",
              "      <td>15603246</td>\n",
              "      <td>Female</td>\n",
              "      <td>27</td>\n",
              "      <td>57000</td>\n",
              "      <td>0</td>\n",
              "    </tr>\n",
              "    <tr>\n",
              "      <th>4</th>\n",
              "      <td>15804002</td>\n",
              "      <td>Male</td>\n",
              "      <td>19</td>\n",
              "      <td>76000</td>\n",
              "      <td>0</td>\n",
              "    </tr>\n",
              "  </tbody>\n",
              "</table>\n",
              "</div>\n",
              "      <button class=\"colab-df-convert\" onclick=\"convertToInteractive('df-e7c7242f-f238-4bd7-9c73-e933459621f7')\"\n",
              "              title=\"Convert this dataframe to an interactive table.\"\n",
              "              style=\"display:none;\">\n",
              "        \n",
              "  <svg xmlns=\"http://www.w3.org/2000/svg\" height=\"24px\"viewBox=\"0 0 24 24\"\n",
              "       width=\"24px\">\n",
              "    <path d=\"M0 0h24v24H0V0z\" fill=\"none\"/>\n",
              "    <path d=\"M18.56 5.44l.94 2.06.94-2.06 2.06-.94-2.06-.94-.94-2.06-.94 2.06-2.06.94zm-11 1L8.5 8.5l.94-2.06 2.06-.94-2.06-.94L8.5 2.5l-.94 2.06-2.06.94zm10 10l.94 2.06.94-2.06 2.06-.94-2.06-.94-.94-2.06-.94 2.06-2.06.94z\"/><path d=\"M17.41 7.96l-1.37-1.37c-.4-.4-.92-.59-1.43-.59-.52 0-1.04.2-1.43.59L10.3 9.45l-7.72 7.72c-.78.78-.78 2.05 0 2.83L4 21.41c.39.39.9.59 1.41.59.51 0 1.02-.2 1.41-.59l7.78-7.78 2.81-2.81c.8-.78.8-2.07 0-2.86zM5.41 20L4 18.59l7.72-7.72 1.47 1.35L5.41 20z\"/>\n",
              "  </svg>\n",
              "      </button>\n",
              "      \n",
              "  <style>\n",
              "    .colab-df-container {\n",
              "      display:flex;\n",
              "      flex-wrap:wrap;\n",
              "      gap: 12px;\n",
              "    }\n",
              "\n",
              "    .colab-df-convert {\n",
              "      background-color: #E8F0FE;\n",
              "      border: none;\n",
              "      border-radius: 50%;\n",
              "      cursor: pointer;\n",
              "      display: none;\n",
              "      fill: #1967D2;\n",
              "      height: 32px;\n",
              "      padding: 0 0 0 0;\n",
              "      width: 32px;\n",
              "    }\n",
              "\n",
              "    .colab-df-convert:hover {\n",
              "      background-color: #E2EBFA;\n",
              "      box-shadow: 0px 1px 2px rgba(60, 64, 67, 0.3), 0px 1px 3px 1px rgba(60, 64, 67, 0.15);\n",
              "      fill: #174EA6;\n",
              "    }\n",
              "\n",
              "    [theme=dark] .colab-df-convert {\n",
              "      background-color: #3B4455;\n",
              "      fill: #D2E3FC;\n",
              "    }\n",
              "\n",
              "    [theme=dark] .colab-df-convert:hover {\n",
              "      background-color: #434B5C;\n",
              "      box-shadow: 0px 1px 3px 1px rgba(0, 0, 0, 0.15);\n",
              "      filter: drop-shadow(0px 1px 2px rgba(0, 0, 0, 0.3));\n",
              "      fill: #FFFFFF;\n",
              "    }\n",
              "  </style>\n",
              "\n",
              "      <script>\n",
              "        const buttonEl =\n",
              "          document.querySelector('#df-e7c7242f-f238-4bd7-9c73-e933459621f7 button.colab-df-convert');\n",
              "        buttonEl.style.display =\n",
              "          google.colab.kernel.accessAllowed ? 'block' : 'none';\n",
              "\n",
              "        async function convertToInteractive(key) {\n",
              "          const element = document.querySelector('#df-e7c7242f-f238-4bd7-9c73-e933459621f7');\n",
              "          const dataTable =\n",
              "            await google.colab.kernel.invokeFunction('convertToInteractive',\n",
              "                                                     [key], {});\n",
              "          if (!dataTable) return;\n",
              "\n",
              "          const docLinkHtml = 'Like what you see? Visit the ' +\n",
              "            '<a target=\"_blank\" href=https://colab.research.google.com/notebooks/data_table.ipynb>data table notebook</a>'\n",
              "            + ' to learn more about interactive tables.';\n",
              "          element.innerHTML = '';\n",
              "          dataTable['output_type'] = 'display_data';\n",
              "          await google.colab.output.renderOutput(dataTable, element);\n",
              "          const docLink = document.createElement('div');\n",
              "          docLink.innerHTML = docLinkHtml;\n",
              "          element.appendChild(docLink);\n",
              "        }\n",
              "      </script>\n",
              "    </div>\n",
              "  </div>\n",
              "  "
            ]
          },
          "metadata": {},
          "execution_count": 96
        }
      ]
    },
    {
      "cell_type": "code",
      "source": [
        "df.isnull().sum()"
      ],
      "metadata": {
        "colab": {
          "base_uri": "https://localhost:8080/"
        },
        "id": "p5xltCWEWK2b",
        "outputId": "ce96c058-db4b-44b5-a789-4483f909a14f"
      },
      "execution_count": 97,
      "outputs": [
        {
          "output_type": "execute_result",
          "data": {
            "text/plain": [
              "User ID            0\n",
              "Gender             0\n",
              "Age                0\n",
              "EstimatedSalary    0\n",
              "Purchased          0\n",
              "dtype: int64"
            ]
          },
          "metadata": {},
          "execution_count": 97
        }
      ]
    },
    {
      "cell_type": "code",
      "source": [
        "df.describe()"
      ],
      "metadata": {
        "colab": {
          "base_uri": "https://localhost:8080/",
          "height": 300
        },
        "id": "ppzqIq4qWKqD",
        "outputId": "5abb37fa-a022-4355-e093-15c56c1c1815"
      },
      "execution_count": 98,
      "outputs": [
        {
          "output_type": "execute_result",
          "data": {
            "text/plain": [
              "            User ID         Age  EstimatedSalary   Purchased\n",
              "count  4.000000e+02  400.000000       400.000000  400.000000\n",
              "mean   1.569154e+07   37.655000     69742.500000    0.357500\n",
              "std    7.165832e+04   10.482877     34096.960282    0.479864\n",
              "min    1.556669e+07   18.000000     15000.000000    0.000000\n",
              "25%    1.562676e+07   29.750000     43000.000000    0.000000\n",
              "50%    1.569434e+07   37.000000     70000.000000    0.000000\n",
              "75%    1.575036e+07   46.000000     88000.000000    1.000000\n",
              "max    1.581524e+07   60.000000    150000.000000    1.000000"
            ],
            "text/html": [
              "\n",
              "  <div id=\"df-c043f071-9468-482a-8104-8b3fffdd1b6c\">\n",
              "    <div class=\"colab-df-container\">\n",
              "      <div>\n",
              "<style scoped>\n",
              "    .dataframe tbody tr th:only-of-type {\n",
              "        vertical-align: middle;\n",
              "    }\n",
              "\n",
              "    .dataframe tbody tr th {\n",
              "        vertical-align: top;\n",
              "    }\n",
              "\n",
              "    .dataframe thead th {\n",
              "        text-align: right;\n",
              "    }\n",
              "</style>\n",
              "<table border=\"1\" class=\"dataframe\">\n",
              "  <thead>\n",
              "    <tr style=\"text-align: right;\">\n",
              "      <th></th>\n",
              "      <th>User ID</th>\n",
              "      <th>Age</th>\n",
              "      <th>EstimatedSalary</th>\n",
              "      <th>Purchased</th>\n",
              "    </tr>\n",
              "  </thead>\n",
              "  <tbody>\n",
              "    <tr>\n",
              "      <th>count</th>\n",
              "      <td>4.000000e+02</td>\n",
              "      <td>400.000000</td>\n",
              "      <td>400.000000</td>\n",
              "      <td>400.000000</td>\n",
              "    </tr>\n",
              "    <tr>\n",
              "      <th>mean</th>\n",
              "      <td>1.569154e+07</td>\n",
              "      <td>37.655000</td>\n",
              "      <td>69742.500000</td>\n",
              "      <td>0.357500</td>\n",
              "    </tr>\n",
              "    <tr>\n",
              "      <th>std</th>\n",
              "      <td>7.165832e+04</td>\n",
              "      <td>10.482877</td>\n",
              "      <td>34096.960282</td>\n",
              "      <td>0.479864</td>\n",
              "    </tr>\n",
              "    <tr>\n",
              "      <th>min</th>\n",
              "      <td>1.556669e+07</td>\n",
              "      <td>18.000000</td>\n",
              "      <td>15000.000000</td>\n",
              "      <td>0.000000</td>\n",
              "    </tr>\n",
              "    <tr>\n",
              "      <th>25%</th>\n",
              "      <td>1.562676e+07</td>\n",
              "      <td>29.750000</td>\n",
              "      <td>43000.000000</td>\n",
              "      <td>0.000000</td>\n",
              "    </tr>\n",
              "    <tr>\n",
              "      <th>50%</th>\n",
              "      <td>1.569434e+07</td>\n",
              "      <td>37.000000</td>\n",
              "      <td>70000.000000</td>\n",
              "      <td>0.000000</td>\n",
              "    </tr>\n",
              "    <tr>\n",
              "      <th>75%</th>\n",
              "      <td>1.575036e+07</td>\n",
              "      <td>46.000000</td>\n",
              "      <td>88000.000000</td>\n",
              "      <td>1.000000</td>\n",
              "    </tr>\n",
              "    <tr>\n",
              "      <th>max</th>\n",
              "      <td>1.581524e+07</td>\n",
              "      <td>60.000000</td>\n",
              "      <td>150000.000000</td>\n",
              "      <td>1.000000</td>\n",
              "    </tr>\n",
              "  </tbody>\n",
              "</table>\n",
              "</div>\n",
              "      <button class=\"colab-df-convert\" onclick=\"convertToInteractive('df-c043f071-9468-482a-8104-8b3fffdd1b6c')\"\n",
              "              title=\"Convert this dataframe to an interactive table.\"\n",
              "              style=\"display:none;\">\n",
              "        \n",
              "  <svg xmlns=\"http://www.w3.org/2000/svg\" height=\"24px\"viewBox=\"0 0 24 24\"\n",
              "       width=\"24px\">\n",
              "    <path d=\"M0 0h24v24H0V0z\" fill=\"none\"/>\n",
              "    <path d=\"M18.56 5.44l.94 2.06.94-2.06 2.06-.94-2.06-.94-.94-2.06-.94 2.06-2.06.94zm-11 1L8.5 8.5l.94-2.06 2.06-.94-2.06-.94L8.5 2.5l-.94 2.06-2.06.94zm10 10l.94 2.06.94-2.06 2.06-.94-2.06-.94-.94-2.06-.94 2.06-2.06.94z\"/><path d=\"M17.41 7.96l-1.37-1.37c-.4-.4-.92-.59-1.43-.59-.52 0-1.04.2-1.43.59L10.3 9.45l-7.72 7.72c-.78.78-.78 2.05 0 2.83L4 21.41c.39.39.9.59 1.41.59.51 0 1.02-.2 1.41-.59l7.78-7.78 2.81-2.81c.8-.78.8-2.07 0-2.86zM5.41 20L4 18.59l7.72-7.72 1.47 1.35L5.41 20z\"/>\n",
              "  </svg>\n",
              "      </button>\n",
              "      \n",
              "  <style>\n",
              "    .colab-df-container {\n",
              "      display:flex;\n",
              "      flex-wrap:wrap;\n",
              "      gap: 12px;\n",
              "    }\n",
              "\n",
              "    .colab-df-convert {\n",
              "      background-color: #E8F0FE;\n",
              "      border: none;\n",
              "      border-radius: 50%;\n",
              "      cursor: pointer;\n",
              "      display: none;\n",
              "      fill: #1967D2;\n",
              "      height: 32px;\n",
              "      padding: 0 0 0 0;\n",
              "      width: 32px;\n",
              "    }\n",
              "\n",
              "    .colab-df-convert:hover {\n",
              "      background-color: #E2EBFA;\n",
              "      box-shadow: 0px 1px 2px rgba(60, 64, 67, 0.3), 0px 1px 3px 1px rgba(60, 64, 67, 0.15);\n",
              "      fill: #174EA6;\n",
              "    }\n",
              "\n",
              "    [theme=dark] .colab-df-convert {\n",
              "      background-color: #3B4455;\n",
              "      fill: #D2E3FC;\n",
              "    }\n",
              "\n",
              "    [theme=dark] .colab-df-convert:hover {\n",
              "      background-color: #434B5C;\n",
              "      box-shadow: 0px 1px 3px 1px rgba(0, 0, 0, 0.15);\n",
              "      filter: drop-shadow(0px 1px 2px rgba(0, 0, 0, 0.3));\n",
              "      fill: #FFFFFF;\n",
              "    }\n",
              "  </style>\n",
              "\n",
              "      <script>\n",
              "        const buttonEl =\n",
              "          document.querySelector('#df-c043f071-9468-482a-8104-8b3fffdd1b6c button.colab-df-convert');\n",
              "        buttonEl.style.display =\n",
              "          google.colab.kernel.accessAllowed ? 'block' : 'none';\n",
              "\n",
              "        async function convertToInteractive(key) {\n",
              "          const element = document.querySelector('#df-c043f071-9468-482a-8104-8b3fffdd1b6c');\n",
              "          const dataTable =\n",
              "            await google.colab.kernel.invokeFunction('convertToInteractive',\n",
              "                                                     [key], {});\n",
              "          if (!dataTable) return;\n",
              "\n",
              "          const docLinkHtml = 'Like what you see? Visit the ' +\n",
              "            '<a target=\"_blank\" href=https://colab.research.google.com/notebooks/data_table.ipynb>data table notebook</a>'\n",
              "            + ' to learn more about interactive tables.';\n",
              "          element.innerHTML = '';\n",
              "          dataTable['output_type'] = 'display_data';\n",
              "          await google.colab.output.renderOutput(dataTable, element);\n",
              "          const docLink = document.createElement('div');\n",
              "          docLink.innerHTML = docLinkHtml;\n",
              "          element.appendChild(docLink);\n",
              "        }\n",
              "      </script>\n",
              "    </div>\n",
              "  </div>\n",
              "  "
            ]
          },
          "metadata": {},
          "execution_count": 98
        }
      ]
    },
    {
      "cell_type": "markdown",
      "metadata": {
        "id": "eHCKYPHylT5K"
      },
      "source": [
        "**Splitting the dataset into the Training set and Test set**"
      ]
    },
    {
      "cell_type": "code",
      "source": [
        "import seaborn as sns \n",
        "plt.figure(figsize=(10,7))\n",
        "sns.scatterplot(x='Age',y='EstimatedSalary',hue='Purchased',data=df,s=150)\n",
        "plt.title(\"car purchased data\",fontsize=15)\n",
        "plt.xlabel(\"Age\")\n",
        "plt.ylabel(\"EstimatedSalary\")\n",
        "plt.show()"
      ],
      "metadata": {
        "id": "h06qgljTWKb3",
        "colab": {
          "base_uri": "https://localhost:8080/",
          "height": 460
        },
        "outputId": "c007deb4-544e-4773-fd7e-4d9434ad779c"
      },
      "execution_count": 99,
      "outputs": [
        {
          "output_type": "display_data",
          "data": {
            "text/plain": [
              "<Figure size 720x504 with 1 Axes>"
            ],
            "image/png": "[encoded data removed]"
          },
          "metadata": {
            "needs_background": "light"
          }
        }
      ]
    },
    {
      "cell_type": "code",
      "source": [
        "df.corr()"
      ],
      "metadata": {
        "colab": {
          "base_uri": "https://localhost:8080/",
          "height": 175
        },
        "id": "OVhRYuiuss-2",
        "outputId": "1916d0b0-3134-4db8-d3ce-81900b965157"
      },
      "execution_count": 100,
      "outputs": [
        {
          "output_type": "execute_result",
          "data": {
            "text/plain": [
              "                  User ID       Age  EstimatedSalary  Purchased\n",
              "User ID          1.000000 -0.000721         0.071097   0.007120\n",
              "Age             -0.000721  1.000000         0.155238   0.622454\n",
              "EstimatedSalary  0.071097  0.155238         1.000000   0.362083\n",
              "Purchased        0.007120  0.622454         0.362083   1.000000"
            ],
            "text/html": [
              "\n",
              "  <div id=\"df-d6af1b4f-0716-4705-b1f9-9c5e19c67e68\">\n",
              "    <div class=\"colab-df-container\">\n",
              "      <div>\n",
              "<style scoped>\n",
              "    .dataframe tbody tr th:only-of-type {\n",
              "        vertical-align: middle;\n",
              "    }\n",
              "\n",
              "    .dataframe tbody tr th {\n",
              "        vertical-align: top;\n",
              "    }\n",
              "\n",
              "    .dataframe thead th {\n",
              "        text-align: right;\n",
              "    }\n",
              "</style>\n",
              "<table border=\"1\" class=\"dataframe\">\n",
              "  <thead>\n",
              "    <tr style=\"text-align: right;\">\n",
              "      <th></th>\n",
              "      <th>User ID</th>\n",
              "      <th>Age</th>\n",
              "      <th>EstimatedSalary</th>\n",
              "      <th>Purchased</th>\n",
              "    </tr>\n",
              "  </thead>\n",
              "  <tbody>\n",
              "    <tr>\n",
              "      <th>User ID</th>\n",
              "      <td>1.000000</td>\n",
              "      <td>-0.000721</td>\n",
              "      <td>0.071097</td>\n",
              "      <td>0.007120</td>\n",
              "    </tr>\n",
              "    <tr>\n",
              "      <th>Age</th>\n",
              "      <td>-0.000721</td>\n",
              "      <td>1.000000</td>\n",
              "      <td>0.155238</td>\n",
              "      <td>0.622454</td>\n",
              "    </tr>\n",
              "    <tr>\n",
              "      <th>EstimatedSalary</th>\n",
              "      <td>0.071097</td>\n",
              "      <td>0.155238</td>\n",
              "      <td>1.000000</td>\n",
              "      <td>0.362083</td>\n",
              "    </tr>\n",
              "    <tr>\n",
              "      <th>Purchased</th>\n",
              "      <td>0.007120</td>\n",
              "      <td>0.622454</td>\n",
              "      <td>0.362083</td>\n",
              "      <td>1.000000</td>\n",
              "    </tr>\n",
              "  </tbody>\n",
              "</table>\n",
              "</div>\n",
              "      <button class=\"colab-df-convert\" onclick=\"convertToInteractive('df-d6af1b4f-0716-4705-b1f9-9c5e19c67e68')\"\n",
              "              title=\"Convert this dataframe to an interactive table.\"\n",
              "              style=\"display:none;\">\n",
              "        \n",
              "  <svg xmlns=\"http://www.w3.org/2000/svg\" height=\"24px\"viewBox=\"0 0 24 24\"\n",
              "       width=\"24px\">\n",
              "    <path d=\"M0 0h24v24H0V0z\" fill=\"none\"/>\n",
              "    <path d=\"M18.56 5.44l.94 2.06.94-2.06 2.06-.94-2.06-.94-.94-2.06-.94 2.06-2.06.94zm-11 1L8.5 8.5l.94-2.06 2.06-.94-2.06-.94L8.5 2.5l-.94 2.06-2.06.94zm10 10l.94 2.06.94-2.06 2.06-.94-2.06-.94-.94-2.06-.94 2.06-2.06.94z\"/><path d=\"M17.41 7.96l-1.37-1.37c-.4-.4-.92-.59-1.43-.59-.52 0-1.04.2-1.43.59L10.3 9.45l-7.72 7.72c-.78.78-.78 2.05 0 2.83L4 21.41c.39.39.9.59 1.41.59.51 0 1.02-.2 1.41-.59l7.78-7.78 2.81-2.81c.8-.78.8-2.07 0-2.86zM5.41 20L4 18.59l7.72-7.72 1.47 1.35L5.41 20z\"/>\n",
              "  </svg>\n",
              "      </button>\n",
              "      \n",
              "  <style>\n",
              "    .colab-df-container {\n",
              "      display:flex;\n",
              "      flex-wrap:wrap;\n",
              "      gap: 12px;\n",
              "    }\n",
              "\n",
              "    .colab-df-convert {\n",
              "      background-color: #E8F0FE;\n",
              "      border: none;\n",
              "      border-radius: 50%;\n",
              "      cursor: pointer;\n",
              "      display: none;\n",
              "      fill: #1967D2;\n",
              "      height: 32px;\n",
              "      padding: 0 0 0 0;\n",
              "      width: 32px;\n",
              "    }\n",
              "\n",
              "    .colab-df-convert:hover {\n",
              "      background-color: #E2EBFA;\n",
              "      box-shadow: 0px 1px 2px rgba(60, 64, 67, 0.3), 0px 1px 3px 1px rgba(60, 64, 67, 0.15);\n",
              "      fill: #174EA6;\n",
              "    }\n",
              "\n",
              "    [theme=dark] .colab-df-convert {\n",
              "      background-color: #3B4455;\n",
              "      fill: #D2E3FC;\n",
              "    }\n",
              "\n",
              "    [theme=dark] .colab-df-convert:hover {\n",
              "      background-color: #434B5C;\n",
              "      box-shadow: 0px 1px 3px 1px rgba(0, 0, 0, 0.15);\n",
              "      filter: drop-shadow(0px 1px 2px rgba(0, 0, 0, 0.3));\n",
              "      fill: #FFFFFF;\n",
              "    }\n",
              "  </style>\n",
              "\n",
              "      <script>\n",
              "        const buttonEl =\n",
              "          document.querySelector('#df-d6af1b4f-0716-4705-b1f9-9c5e19c67e68 button.colab-df-convert');\n",
              "        buttonEl.style.display =\n",
              "          google.colab.kernel.accessAllowed ? 'block' : 'none';\n",
              "\n",
              "        async function convertToInteractive(key) {\n",
              "          const element = document.querySelector('#df-d6af1b4f-0716-4705-b1f9-9c5e19c67e68');\n",
              "          const dataTable =\n",
              "            await google.colab.kernel.invokeFunction('convertToInteractive',\n",
              "                                                     [key], {});\n",
              "          if (!dataTable) return;\n",
              "\n",
              "          const docLinkHtml = 'Like what you see? Visit the ' +\n",
              "            '<a target=\"_blank\" href=https://colab.research.google.com/notebooks/data_table.ipynb>data table notebook</a>'\n",
              "            + ' to learn more about interactive tables.';\n",
              "          element.innerHTML = '';\n",
              "          dataTable['output_type'] = 'display_data';\n",
              "          await google.colab.output.renderOutput(dataTable, element);\n",
              "          const docLink = document.createElement('div');\n",
              "          docLink.innerHTML = docLinkHtml;\n",
              "          element.appendChild(docLink);\n",
              "        }\n",
              "      </script>\n",
              "    </div>\n",
              "  </div>\n",
              "  "
            ]
          },
          "metadata": {},
          "execution_count": 100
        }
      ]
    },
    {
      "cell_type": "code",
      "metadata": {
        "id": "o9msgi0sj72h",
        "colab": {
          "base_uri": "https://localhost:8080/"
        },
        "outputId": "f7f62fdf-ad5f-459d-d8c0-0610a1d731aa"
      },
      "source": [
        "df.dtypes"
      ],
      "execution_count": 101,
      "outputs": [
        {
          "output_type": "execute_result",
          "data": {
            "text/plain": [
              "User ID             int64\n",
              "Gender             object\n",
              "Age                 int64\n",
              "EstimatedSalary     int64\n",
              "Purchased           int64\n",
              "dtype: object"
            ]
          },
          "metadata": {},
          "execution_count": 101
        }
      ]
    },
    {
      "cell_type": "markdown",
      "metadata": {
        "id": "AsfmGeH6lZ0O"
      },
      "source": [
        "**Feature Scaling**"
      ]
    },
    {
      "cell_type": "code",
      "source": [
        "x=df[['Age','EstimatedSalary']].values\n",
        "y=df['Purchased'].values\n",
        "x_train,x_test,y_train,y_test=train_test_split(x,y,test_size=0.25,random_state=0)"
      ],
      "metadata": {
        "id": "UNwMwfQesrY-"
      },
      "execution_count": 102,
      "outputs": []
    },
    {
      "cell_type": "code",
      "metadata": {
        "id": "Xfifr6tlj77A",
        "colab": {
          "base_uri": "https://localhost:8080/"
        },
        "outputId": "310e5556-1300-4a9c-d28e-9f2b23638397"
      },
      "source": [
        "x_train"
      ],
      "execution_count": 103,
      "outputs": [
        {
          "output_type": "execute_result",
          "data": {
            "text/plain": [
              "array([[    44,  39000],\n",
              "       [    32, 120000],\n",
              "       [    38,  50000],\n",
              "       [    32, 135000],\n",
              "       [    52,  21000],\n",
              "       [    53, 104000],\n",
              "       [    39,  42000],\n",
              "       [    38,  61000],\n",
              "       [    36,  50000],\n",
              "       [    36,  63000],\n",
              "       [    35,  25000],\n",
              "       [    35,  50000],\n",
              "       [    42,  73000],\n",
              "       [    47,  49000],\n",
              "       [    59,  29000],\n",
              "       [    49,  65000],\n",
              "       [    45, 131000],\n",
              "       [    31,  89000],\n",
              "       [    46,  82000],\n",
              "       [    47,  51000],\n",
              "       [    26,  15000],\n",
              "       [    60, 102000],\n",
              "       [    38, 112000],\n",
              "       [    40, 107000],\n",
              "       [    42,  53000],\n",
              "       [    35,  59000],\n",
              "       [    48,  41000],\n",
              "       [    48, 134000],\n",
              "       [    38, 113000],\n",
              "       [    29, 148000],\n",
              "       [    26,  15000],\n",
              "       [    60,  42000],\n",
              "       [    24,  19000],\n",
              "       [    42, 149000],\n",
              "       [    46,  96000],\n",
              "       [    28,  59000],\n",
              "       [    39,  96000],\n",
              "       [    28,  89000],\n",
              "       [    41,  72000],\n",
              "       [    45,  26000],\n",
              "       [    33,  69000],\n",
              "       [    20,  82000],\n",
              "       [    31,  74000],\n",
              "       [    42,  80000],\n",
              "       [    35,  72000],\n",
              "       [    33, 149000],\n",
              "       [    40,  71000],\n",
              "       [    51, 146000],\n",
              "       [    46,  79000],\n",
              "       [    35,  75000],\n",
              "       [    38,  51000],\n",
              "       [    36,  75000],\n",
              "       [    37,  78000],\n",
              "       [    38,  61000],\n",
              "       [    60, 108000],\n",
              "       [    20,  82000],\n",
              "       [    57,  74000],\n",
              "       [    42,  65000],\n",
              "       [    26,  80000],\n",
              "       [    46, 117000],\n",
              "       [    35,  61000],\n",
              "       [    21,  68000],\n",
              "       [    28,  44000],\n",
              "       [    41,  87000],\n",
              "       [    37,  33000],\n",
              "       [    27,  90000],\n",
              "       [    39,  42000],\n",
              "       [    28, 123000],\n",
              "       [    31, 118000],\n",
              "       [    25,  87000],\n",
              "       [    35,  71000],\n",
              "       [    37,  70000],\n",
              "       [    35,  39000],\n",
              "       [    47,  23000],\n",
              "       [    35, 147000],\n",
              "       [    48, 138000],\n",
              "       [    26,  86000],\n",
              "       [    25,  79000],\n",
              "       [    52, 138000],\n",
              "       [    51,  23000],\n",
              "       [    35,  60000],\n",
              "       [    33, 113000],\n",
              "       [    30, 107000],\n",
              "       [    48,  33000],\n",
              "       [    41,  80000],\n",
              "       [    48,  96000],\n",
              "       [    31,  18000],\n",
              "       [    31,  71000],\n",
              "       [    43, 129000],\n",
              "       [    59,  76000],\n",
              "       [    18,  44000],\n",
              "       [    36, 118000],\n",
              "       [    42,  90000],\n",
              "       [    47,  30000],\n",
              "       [    26,  43000],\n",
              "       [    40,  78000],\n",
              "       [    46,  59000],\n",
              "       [    59,  42000],\n",
              "       [    46,  74000],\n",
              "       [    35,  91000],\n",
              "       [    28,  59000],\n",
              "       [    40,  57000],\n",
              "       [    59, 143000],\n",
              "       [    57,  26000],\n",
              "       [    52,  38000],\n",
              "       [    47, 113000],\n",
              "       [    53, 143000],\n",
              "       [    35,  27000],\n",
              "       [    58, 101000],\n",
              "       [    45,  45000],\n",
              "       [    23,  82000],\n",
              "       [    46,  23000],\n",
              "       [    42,  65000],\n",
              "       [    28,  84000],\n",
              "       [    38,  59000],\n",
              "       [    26,  84000],\n",
              "       [    29,  28000],\n",
              "       [    37,  71000],\n",
              "       [    22,  55000],\n",
              "       [    48,  35000],\n",
              "       [    49,  28000],\n",
              "       [    38,  65000],\n",
              "       [    27,  17000],\n",
              "       [    46,  28000],\n",
              "       [    48, 141000],\n",
              "       [    26,  17000],\n",
              "       [    35,  97000],\n",
              "       [    39,  59000],\n",
              "       [    24,  27000],\n",
              "       [    32,  18000],\n",
              "       [    46,  88000],\n",
              "       [    35,  58000],\n",
              "       [    56,  60000],\n",
              "       [    47,  34000],\n",
              "       [    40,  72000],\n",
              "       [    32, 100000],\n",
              "       [    19,  21000],\n",
              "       [    25,  90000],\n",
              "       [    35,  88000],\n",
              "       [    28,  32000],\n",
              "       [    50,  20000],\n",
              "       [    40,  59000],\n",
              "       [    50,  44000],\n",
              "       [    35,  72000],\n",
              "       [    40, 142000],\n",
              "       [    46,  32000],\n",
              "       [    39,  71000],\n",
              "       [    20,  74000],\n",
              "       [    29,  75000],\n",
              "       [    31,  76000],\n",
              "       [    47,  25000],\n",
              "       [    40,  61000],\n",
              "       [    34, 112000],\n",
              "       [    38,  80000],\n",
              "       [    42,  75000],\n",
              "       [    47,  47000],\n",
              "       [    39,  75000],\n",
              "       [    19,  25000],\n",
              "       [    37,  80000],\n",
              "       [    36,  60000],\n",
              "       [    41,  52000],\n",
              "       [    36, 125000],\n",
              "       [    48,  29000],\n",
              "       [    36, 126000],\n",
              "       [    51, 134000],\n",
              "       [    27,  57000],\n",
              "       [    38,  71000],\n",
              "       [    39,  61000],\n",
              "       [    22,  27000],\n",
              "       [    33,  60000],\n",
              "       [    48,  74000],\n",
              "       [    58,  23000],\n",
              "       [    53,  72000],\n",
              "       [    32, 117000],\n",
              "       [    54,  70000],\n",
              "       [    30,  80000],\n",
              "       [    58,  95000],\n",
              "       [    26,  52000],\n",
              "       [    45,  79000],\n",
              "       [    24,  55000],\n",
              "       [    40,  75000],\n",
              "       [    33,  28000],\n",
              "       [    44, 139000],\n",
              "       [    22,  18000],\n",
              "       [    33,  51000],\n",
              "       [    43, 133000],\n",
              "       [    24,  32000],\n",
              "       [    46,  22000],\n",
              "       [    35,  55000],\n",
              "       [    54, 104000],\n",
              "       [    48, 119000],\n",
              "       [    35,  53000],\n",
              "       [    37, 144000],\n",
              "       [    23,  66000],\n",
              "       [    37, 137000],\n",
              "       [    31,  58000],\n",
              "       [    33,  41000],\n",
              "       [    45,  22000],\n",
              "       [    30,  15000],\n",
              "       [    19,  19000],\n",
              "       [    49,  74000],\n",
              "       [    39, 122000],\n",
              "       [    35,  73000],\n",
              "       [    39,  71000],\n",
              "       [    24,  23000],\n",
              "       [    41,  72000],\n",
              "       [    29,  83000],\n",
              "       [    54,  26000],\n",
              "       [    35,  44000],\n",
              "       [    37,  75000],\n",
              "       [    29,  47000],\n",
              "       [    31,  68000],\n",
              "       [    42,  54000],\n",
              "       [    30, 135000],\n",
              "       [    52, 114000],\n",
              "       [    50,  36000],\n",
              "       [    56, 133000],\n",
              "       [    29,  61000],\n",
              "       [    30,  89000],\n",
              "       [    26,  16000],\n",
              "       [    33,  31000],\n",
              "       [    41,  72000],\n",
              "       [    36,  33000],\n",
              "       [    55, 125000],\n",
              "       [    48, 131000],\n",
              "       [    41,  71000],\n",
              "       [    30,  62000],\n",
              "       [    37,  72000],\n",
              "       [    41,  63000],\n",
              "       [    58,  47000],\n",
              "       [    30, 116000],\n",
              "       [    20,  49000],\n",
              "       [    37,  74000],\n",
              "       [    41,  59000],\n",
              "       [    49,  89000],\n",
              "       [    28,  79000],\n",
              "       [    53,  82000],\n",
              "       [    40,  57000],\n",
              "       [    60,  34000],\n",
              "       [    35, 108000],\n",
              "       [    21,  72000],\n",
              "       [    38,  71000],\n",
              "       [    39, 106000],\n",
              "       [    37,  57000],\n",
              "       [    26,  72000],\n",
              "       [    35,  23000],\n",
              "       [    54, 108000],\n",
              "       [    30,  17000],\n",
              "       [    39, 134000],\n",
              "       [    29,  43000],\n",
              "       [    33,  43000],\n",
              "       [    35,  38000],\n",
              "       [    41,  45000],\n",
              "       [    41,  72000],\n",
              "       [    39, 134000],\n",
              "       [    27, 137000],\n",
              "       [    21,  16000],\n",
              "       [    26,  32000],\n",
              "       [    31,  66000],\n",
              "       [    39,  73000],\n",
              "       [    41,  79000],\n",
              "       [    47,  50000],\n",
              "       [    41,  30000],\n",
              "       [    37,  93000],\n",
              "       [    60,  46000],\n",
              "       [    25,  22000],\n",
              "       [    28,  37000],\n",
              "       [    38,  55000],\n",
              "       [    36,  54000],\n",
              "       [    20,  36000],\n",
              "       [    56, 104000],\n",
              "       [    40,  57000],\n",
              "       [    42, 108000],\n",
              "       [    20,  23000],\n",
              "       [    40,  65000],\n",
              "       [    47,  20000],\n",
              "       [    18,  86000],\n",
              "       [    35,  79000],\n",
              "       [    57,  33000],\n",
              "       [    34,  72000],\n",
              "       [    49,  39000],\n",
              "       [    27,  31000],\n",
              "       [    19,  70000],\n",
              "       [    39,  79000],\n",
              "       [    26,  81000],\n",
              "       [    25,  80000],\n",
              "       [    28,  85000],\n",
              "       [    55,  39000],\n",
              "       [    50,  88000],\n",
              "       [    49,  88000],\n",
              "       [    52, 150000],\n",
              "       [    35,  65000],\n",
              "       [    42,  54000],\n",
              "       [    34,  43000],\n",
              "       [    37,  52000],\n",
              "       [    48,  30000],\n",
              "       [    29,  43000],\n",
              "       [    36,  52000],\n",
              "       [    27,  54000],\n",
              "       [    26, 118000]])"
            ]
          },
          "metadata": {},
          "execution_count": 103
        }
      ]
    },
    {
      "cell_type": "code",
      "source": [
        "y_train"
      ],
      "metadata": {
        "colab": {
          "base_uri": "https://localhost:8080/"
        },
        "id": "QeKs2RSd5LJi",
        "outputId": "bf27ce83-286d-4825-dc6d-bae795fbf56f"
      },
      "execution_count": 104,
      "outputs": [
        {
          "output_type": "execute_result",
          "data": {
            "text/plain": [
              "array([0, 1, 0, 1, 1, 1, 0, 0, 0, 0, 0, 0, 1, 1, 1, 0, 1, 0, 0, 1, 0, 1,\n",
              "       0, 1, 0, 0, 1, 1, 1, 1, 0, 1, 0, 1, 0, 0, 1, 0, 0, 1, 0, 0, 0, 0,\n",
              "       0, 1, 1, 1, 1, 0, 0, 0, 1, 0, 1, 0, 1, 0, 0, 1, 0, 0, 0, 1, 0, 0,\n",
              "       0, 1, 1, 0, 0, 1, 0, 1, 1, 1, 0, 0, 1, 1, 0, 0, 1, 1, 0, 1, 0, 0,\n",
              "       1, 1, 0, 1, 1, 1, 0, 0, 0, 0, 0, 1, 0, 0, 1, 1, 1, 1, 1, 0, 1, 1,\n",
              "       0, 1, 0, 0, 0, 0, 0, 0, 0, 1, 1, 0, 0, 1, 0, 0, 1, 0, 0, 0, 1, 0,\n",
              "       1, 1, 0, 1, 0, 0, 0, 0, 1, 0, 0, 0, 1, 1, 0, 0, 0, 0, 1, 0, 1, 0,\n",
              "       0, 0, 1, 0, 0, 0, 0, 1, 1, 1, 0, 0, 0, 0, 0, 0, 1, 1, 1, 1, 1, 0,\n",
              "       1, 0, 0, 0, 0, 0, 1, 0, 0, 0, 0, 0, 0, 1, 1, 0, 1, 0, 1, 0, 0, 1,\n",
              "       0, 0, 0, 1, 0, 0, 0, 0, 0, 1, 0, 0, 0, 0, 0, 1, 0, 1, 1, 0, 0, 0,\n",
              "       0, 0, 0, 1, 1, 0, 0, 0, 0, 1, 0, 0, 0, 0, 1, 0, 1, 0, 1, 0, 0, 0,\n",
              "       1, 0, 0, 0, 1, 0, 1, 0, 0, 0, 0, 0, 1, 1, 0, 0, 0, 0, 0, 1, 0, 1,\n",
              "       1, 0, 0, 0, 0, 0, 1, 0, 1, 0, 0, 1, 0, 0, 1, 0, 1, 0, 0, 0, 0, 0,\n",
              "       0, 1, 1, 1, 1, 0, 0, 0, 0, 1, 0, 0, 0, 0])"
            ]
          },
          "metadata": {},
          "execution_count": 104
        }
      ]
    },
    {
      "cell_type": "code",
      "source": [
        "y_test"
      ],
      "metadata": {
        "id": "ET3Endl_AjPZ",
        "colab": {
          "base_uri": "https://localhost:8080/"
        },
        "outputId": "d23e9179-3b40-4038-dd84-29b271291420"
      },
      "execution_count": 105,
      "outputs": [
        {
          "output_type": "execute_result",
          "data": {
            "text/plain": [
              "array([0, 0, 0, 0, 0, 0, 0, 1, 0, 0, 0, 0, 0, 0, 0, 0, 0, 0, 1, 0, 0, 1,\n",
              "       0, 1, 0, 1, 0, 0, 0, 0, 0, 1, 1, 0, 0, 0, 0, 0, 0, 1, 0, 0, 0, 0,\n",
              "       1, 0, 0, 1, 0, 1, 1, 0, 0, 0, 1, 1, 0, 0, 1, 0, 0, 1, 0, 1, 0, 1,\n",
              "       0, 0, 0, 0, 1, 0, 0, 1, 0, 0, 0, 0, 1, 1, 1, 0, 0, 0, 1, 1, 0, 1,\n",
              "       1, 0, 0, 1, 0, 0, 0, 1, 0, 1, 1, 1])"
            ]
          },
          "metadata": {},
          "execution_count": 105
        }
      ]
    },
    {
      "cell_type": "markdown",
      "metadata": {
        "id": "UkiSpylklf7z"
      },
      "source": [
        "**Step 2 | Logistic Regression Model**"
      ]
    },
    {
      "cell_type": "markdown",
      "metadata": {
        "id": "rhZgd1t_mfYg"
      },
      "source": [
        "The library for this job which is going to be the linear model library and it is called linear because the logistic regression is a linear classifier which means that here since we're in two dimensions, our two categories of users are going to be separated by a straight line. Then import the logistic regression class. Next we will create a new object from this class which is going to be our classifier that we are going to fit on our training set."
      ]
    },
    {
      "cell_type": "markdown",
      "metadata": {
        "id": "oCUEcLBflmPn"
      },
      "source": [
        "**Fitting Logistic Regression to the Training set**"
      ]
    },
    {
      "cell_type": "code",
      "metadata": {
        "id": "l8YSpSphj8FN",
        "colab": {
          "base_uri": "https://localhost:8080/"
        },
        "outputId": "2f44a888-b9bb-4331-8b01-d2be9d0e2e1d"
      },
      "source": [
        "from sklearn.linear_model import LogisticRegression\n",
        "logistic_regression=LogisticRegression()\n",
        "logistic_regression.fit(x_train,y_train)"
      ],
      "execution_count": 106,
      "outputs": [
        {
          "output_type": "execute_result",
          "data": {
            "text/plain": [
              "LogisticRegression()"
            ]
          },
          "metadata": {},
          "execution_count": 106
        }
      ]
    },
    {
      "cell_type": "code",
      "source": [
        "x_train[:,1]"
      ],
      "metadata": {
        "colab": {
          "base_uri": "https://localhost:8080/"
        },
        "id": "WLolMrsffYJV",
        "outputId": "4d0cbcc7-51de-4660-e96a-6feda2d99eee"
      },
      "execution_count": 107,
      "outputs": [
        {
          "output_type": "execute_result",
          "data": {
            "text/plain": [
              "array([ 39000, 120000,  50000, 135000,  21000, 104000,  42000,  61000,\n",
              "        50000,  63000,  25000,  50000,  73000,  49000,  29000,  65000,\n",
              "       131000,  89000,  82000,  51000,  15000, 102000, 112000, 107000,\n",
              "        53000,  59000,  41000, 134000, 113000, 148000,  15000,  42000,\n",
              "        19000, 149000,  96000,  59000,  96000,  89000,  72000,  26000,\n",
              "        69000,  82000,  74000,  80000,  72000, 149000,  71000, 146000,\n",
              "        79000,  75000,  51000,  75000,  78000,  61000, 108000,  82000,\n",
              "        74000,  65000,  80000, 117000,  61000,  68000,  44000,  87000,\n",
              "        33000,  90000,  42000, 123000, 118000,  87000,  71000,  70000,\n",
              "        39000,  23000, 147000, 138000,  86000,  79000, 138000,  23000,\n",
              "        60000, 113000, 107000,  33000,  80000,  96000,  18000,  71000,\n",
              "       129000,  76000,  44000, 118000,  90000,  30000,  43000,  78000,\n",
              "        59000,  42000,  74000,  91000,  59000,  57000, 143000,  26000,\n",
              "        38000, 113000, 143000,  27000, 101000,  45000,  82000,  23000,\n",
              "        65000,  84000,  59000,  84000,  28000,  71000,  55000,  35000,\n",
              "        28000,  65000,  17000,  28000, 141000,  17000,  97000,  59000,\n",
              "        27000,  18000,  88000,  58000,  60000,  34000,  72000, 100000,\n",
              "        21000,  90000,  88000,  32000,  20000,  59000,  44000,  72000,\n",
              "       142000,  32000,  71000,  74000,  75000,  76000,  25000,  61000,\n",
              "       112000,  80000,  75000,  47000,  75000,  25000,  80000,  60000,\n",
              "        52000, 125000,  29000, 126000, 134000,  57000,  71000,  61000,\n",
              "        27000,  60000,  74000,  23000,  72000, 117000,  70000,  80000,\n",
              "        95000,  52000,  79000,  55000,  75000,  28000, 139000,  18000,\n",
              "        51000, 133000,  32000,  22000,  55000, 104000, 119000,  53000,\n",
              "       144000,  66000, 137000,  58000,  41000,  22000,  15000,  19000,\n",
              "        74000, 122000,  73000,  71000,  23000,  72000,  83000,  26000,\n",
              "        44000,  75000,  47000,  68000,  54000, 135000, 114000,  36000,\n",
              "       133000,  61000,  89000,  16000,  31000,  72000,  33000, 125000,\n",
              "       131000,  71000,  62000,  72000,  63000,  47000, 116000,  49000,\n",
              "        74000,  59000,  89000,  79000,  82000,  57000,  34000, 108000,\n",
              "        72000,  71000, 106000,  57000,  72000,  23000, 108000,  17000,\n",
              "       134000,  43000,  43000,  38000,  45000,  72000, 134000, 137000,\n",
              "        16000,  32000,  66000,  73000,  79000,  50000,  30000,  93000,\n",
              "        46000,  22000,  37000,  55000,  54000,  36000, 104000,  57000,\n",
              "       108000,  23000,  65000,  20000,  86000,  79000,  33000,  72000,\n",
              "        39000,  31000,  70000,  79000,  81000,  80000,  85000,  39000,\n",
              "        88000,  88000, 150000,  65000,  54000,  43000,  52000,  30000,\n",
              "        43000,  52000,  54000, 118000])"
            ]
          },
          "metadata": {},
          "execution_count": 107
        }
      ]
    },
    {
      "cell_type": "code",
      "source": [
        "logistic_regression.predict_proba(x_train)"
      ],
      "metadata": {
        "colab": {
          "base_uri": "https://localhost:8080/"
        },
        "id": "SkvIfofNgK-V",
        "outputId": "38d125c1-bb9a-4e21-c4a6-826a2491372b"
      },
      "execution_count": 108,
      "outputs": [
        {
          "output_type": "execute_result",
          "data": {
            "text/plain": [
              "array([[0.52025474, 0.47974526],\n",
              "       [0.56203507, 0.43796493],\n",
              "       [0.52595847, 0.47404153],\n",
              "       [0.5696942 , 0.4303058 ],\n",
              "       [0.51091066, 0.48908934],\n",
              "       [0.55383272, 0.44616728],\n",
              "       [0.52181089, 0.47818911],\n",
              "       [0.53165543, 0.46834457],\n",
              "       [0.52595847, 0.47404153],\n",
              "       [0.5326904 , 0.4673096 ],\n",
              "       [0.512988  , 0.487012  ],\n",
              "       [0.52595847, 0.47404153],\n",
              "       [0.53786085, 0.46213915],\n",
              "       [0.52544021, 0.47455979],\n",
              "       [0.51506492, 0.48493508],\n",
              "       [0.53372509, 0.46627491],\n",
              "       [0.56765487, 0.43234513],\n",
              "       [0.5461162 , 0.4538838 ],\n",
              "       [0.54250734, 0.45749266],\n",
              "       [0.52647668, 0.47352332],\n",
              "       [0.50779393, 0.49220607],\n",
              "       [0.55280527, 0.44719473],\n",
              "       [0.55793785, 0.44206215],\n",
              "       [0.55537303, 0.44462697],\n",
              "       [0.52751292, 0.47248708],\n",
              "       [0.53062019, 0.46937981],\n",
              "       [0.52129222, 0.47870778],\n",
              "       [0.56918459, 0.43081541],\n",
              "       [0.55845044, 0.44154956],\n",
              "       [0.57630536, 0.42369464],\n",
              "       [0.50779393, 0.49220607],\n",
              "       [0.5218109 , 0.4781891 ],\n",
              "       [0.50987182, 0.49012818],\n",
              "       [0.57681282, 0.42318718],\n",
              "       [0.54972023, 0.45027977],\n",
              "       [0.53062018, 0.46937982],\n",
              "       [0.54972023, 0.45027977],\n",
              "       [0.54611619, 0.45388381],\n",
              "       [0.53734415, 0.46265585],\n",
              "       [0.51350728, 0.48649272],\n",
              "       [0.53579358, 0.46420642],\n",
              "       [0.54250732, 0.45749268],\n",
              "       [0.53837746, 0.46162254],\n",
              "       [0.54147539, 0.45852461],\n",
              "       [0.53734415, 0.46265585],\n",
              "       [0.57681282, 0.42318718],\n",
              "       [0.53682738, 0.46317262],\n",
              "       [0.57528999, 0.42471001],\n",
              "       [0.54095929, 0.45904071],\n",
              "       [0.538894  , 0.461106  ],\n",
              "       [0.52647668, 0.47352332],\n",
              "       [0.538894  , 0.461106  ],\n",
              "       [0.54044309, 0.45955691],\n",
              "       [0.53165543, 0.46834457],\n",
              "       [0.55588625, 0.44411375],\n",
              "       [0.54250732, 0.45749268],\n",
              "       [0.53837748, 0.46162252],\n",
              "       [0.53372509, 0.46627491],\n",
              "       [0.54147538, 0.45852462],\n",
              "       [0.56049958, 0.43950042],\n",
              "       [0.53165543, 0.46834457],\n",
              "       [0.53527656, 0.46472344],\n",
              "       [0.52284808, 0.47715192],\n",
              "       [0.54508557, 0.45491443],\n",
              "       [0.51714129, 0.48285871],\n",
              "       [0.54663136, 0.45336864],\n",
              "       [0.52181089, 0.47818911],\n",
              "       [0.56356938, 0.43643062],\n",
              "       [0.56101154, 0.43898846],\n",
              "       [0.54508557, 0.45491443],\n",
              "       [0.53682737, 0.46317263],\n",
              "       [0.53631052, 0.46368948],\n",
              "       [0.52025474, 0.47974526],\n",
              "       [0.51194938, 0.48805062],\n",
              "       [0.57579775, 0.42420225],\n",
              "       [0.57122216, 0.42877784],\n",
              "       [0.54457011, 0.45542989],\n",
              "       [0.54095928, 0.45904072],\n",
              "       [0.57122216, 0.42877784],\n",
              "       [0.51194938, 0.48805062],\n",
              "       [0.53113784, 0.46886216],\n",
              "       [0.55845044, 0.44154956],\n",
              "       [0.55537303, 0.44462697],\n",
              "       [0.5171413 , 0.4828587 ],\n",
              "       [0.54147539, 0.45852461],\n",
              "       [0.54972023, 0.45027977],\n",
              "       [0.50935238, 0.49064762],\n",
              "       [0.53682737, 0.46317263],\n",
              "       [0.56663434, 0.43336566],\n",
              "       [0.53941046, 0.46058954],\n",
              "       [0.52284808, 0.47715192],\n",
              "       [0.56101154, 0.43898846],\n",
              "       [0.54663137, 0.45336863],\n",
              "       [0.51558406, 0.48441594],\n",
              "       [0.52232951, 0.47767049],\n",
              "       [0.54044309, 0.45955691],\n",
              "       [0.53062019, 0.46937981],\n",
              "       [0.5218109 , 0.4781891 ],\n",
              "       [0.53837747, 0.46162253],\n",
              "       [0.54714643, 0.45285357],\n",
              "       [0.53062018, 0.46937982],\n",
              "       [0.52958469, 0.47041531],\n",
              "       [0.57376572, 0.42623428],\n",
              "       [0.51350728, 0.48649272],\n",
              "       [0.51973594, 0.48026406],\n",
              "       [0.55845045, 0.44154955],\n",
              "       [0.57376572, 0.42623428],\n",
              "       [0.51402651, 0.48597349],\n",
              "       [0.55229138, 0.44770862],\n",
              "       [0.52336662, 0.47663338],\n",
              "       [0.54250732, 0.45749268],\n",
              "       [0.51194938, 0.48805062],\n",
              "       [0.53372509, 0.46627491],\n",
              "       [0.5435389 , 0.4564611 ],\n",
              "       [0.53062019, 0.46937981],\n",
              "       [0.5435389 , 0.4564611 ],\n",
              "       [0.51454572, 0.48545428],\n",
              "       [0.53682737, 0.46317263],\n",
              "       [0.52854892, 0.47145108],\n",
              "       [0.51817928, 0.48182072],\n",
              "       [0.51454573, 0.48545427],\n",
              "       [0.53372509, 0.46627491],\n",
              "       [0.50883291, 0.49116709],\n",
              "       [0.51454573, 0.48545427],\n",
              "       [0.57274875, 0.42725125],\n",
              "       [0.50883291, 0.49116709],\n",
              "       [0.55023467, 0.44976533],\n",
              "       [0.53062019, 0.46937981],\n",
              "       [0.51402651, 0.48597349],\n",
              "       [0.50935238, 0.49064762],\n",
              "       [0.54560094, 0.45439906],\n",
              "       [0.53010247, 0.46989753],\n",
              "       [0.53113785, 0.46886215],\n",
              "       [0.51766031, 0.48233969],\n",
              "       [0.53734415, 0.46265585],\n",
              "       [0.55177735, 0.44822265],\n",
              "       [0.51091064, 0.48908936],\n",
              "       [0.54663136, 0.45336864],\n",
              "       [0.54560093, 0.45439907],\n",
              "       [0.51662224, 0.48337776],\n",
              "       [0.51039125, 0.48960875],\n",
              "       [0.53062019, 0.46937981],\n",
              "       [0.5228481 , 0.4771519 ],\n",
              "       [0.53734415, 0.46265585],\n",
              "       [0.57325731, 0.42674269],\n",
              "       [0.51662225, 0.48337775],\n",
              "       [0.53682737, 0.46317263],\n",
              "       [0.53837745, 0.46162255],\n",
              "       [0.53889399, 0.46110601],\n",
              "       [0.53941044, 0.46058956],\n",
              "       [0.51298801, 0.48701199],\n",
              "       [0.53165543, 0.46834457],\n",
              "       [0.55793785, 0.44206215],\n",
              "       [0.54147539, 0.45852461],\n",
              "       [0.538894  , 0.461106  ],\n",
              "       [0.52440352, 0.47559648],\n",
              "       [0.538894  , 0.461106  ],\n",
              "       [0.51298799, 0.48701201],\n",
              "       [0.54147539, 0.45852461],\n",
              "       [0.53113784, 0.46886216],\n",
              "       [0.52699483, 0.47300517],\n",
              "       [0.56459159, 0.43540841],\n",
              "       [0.51506491, 0.48493509],\n",
              "       [0.56510249, 0.43489751],\n",
              "       [0.56918459, 0.43081541],\n",
              "       [0.52958468, 0.47041532],\n",
              "       [0.53682737, 0.46317263],\n",
              "       [0.53165543, 0.46834457],\n",
              "       [0.51402651, 0.48597349],\n",
              "       [0.53113784, 0.46886216],\n",
              "       [0.53837747, 0.46162253],\n",
              "       [0.51194939, 0.48805061],\n",
              "       [0.53734416, 0.46265584],\n",
              "       [0.56049957, 0.43950043],\n",
              "       [0.53631053, 0.46368947],\n",
              "       [0.54147539, 0.45852461],\n",
              "       [0.54920569, 0.45079431],\n",
              "       [0.52699482, 0.47300518],\n",
              "       [0.54095929, 0.45904071],\n",
              "       [0.52854892, 0.47145108],\n",
              "       [0.538894  , 0.461106  ],\n",
              "       [0.51454573, 0.48545427],\n",
              "       [0.57173117, 0.42826883],\n",
              "       [0.50935237, 0.49064763],\n",
              "       [0.52647667, 0.47352333],\n",
              "       [0.56867483, 0.43132517],\n",
              "       [0.51662224, 0.48337776],\n",
              "       [0.51143003, 0.48856997],\n",
              "       [0.52854892, 0.47145108],\n",
              "       [0.55383272, 0.44616728],\n",
              "       [0.56152338, 0.43847662],\n",
              "       [0.52751292, 0.47248708],\n",
              "       [0.57427396, 0.42572604],\n",
              "       [0.53424231, 0.46575769],\n",
              "       [0.57071298, 0.42928702],\n",
              "       [0.53010246, 0.46989754],\n",
              "       [0.52129222, 0.47870778],\n",
              "       [0.51143003, 0.48856997],\n",
              "       [0.50779393, 0.49220607],\n",
              "       [0.50987181, 0.49012819],\n",
              "       [0.53837747, 0.46162253],\n",
              "       [0.56305809, 0.43694191],\n",
              "       [0.53786085, 0.46213915],\n",
              "       [0.53682737, 0.46317263],\n",
              "       [0.51194937, 0.48805063],\n",
              "       [0.53734415, 0.46265585],\n",
              "       [0.54302316, 0.45697684],\n",
              "       [0.51350728, 0.48649272],\n",
              "       [0.52284809, 0.47715191],\n",
              "       [0.538894  , 0.461106  ],\n",
              "       [0.52440351, 0.47559649],\n",
              "       [0.53527657, 0.46472343],\n",
              "       [0.52803095, 0.47196905],\n",
              "       [0.5696942 , 0.4303058 ],\n",
              "       [0.55896292, 0.44103708],\n",
              "       [0.51869821, 0.48130179],\n",
              "       [0.56867484, 0.43132516],\n",
              "       [0.53165543, 0.46834457],\n",
              "       [0.5461162 , 0.4538838 ],\n",
              "       [0.50831343, 0.49168657],\n",
              "       [0.51610317, 0.48389683],\n",
              "       [0.53734415, 0.46265585],\n",
              "       [0.51714129, 0.48285871],\n",
              "       [0.5645916 , 0.4354084 ],\n",
              "       [0.56765488, 0.43234512],\n",
              "       [0.53682738, 0.46317262],\n",
              "       [0.53217294, 0.46782706],\n",
              "       [0.53734415, 0.46265585],\n",
              "       [0.5326904 , 0.4673096 ],\n",
              "       [0.52440353, 0.47559647],\n",
              "       [0.55998748, 0.44001252],\n",
              "       [0.5254402 , 0.4745598 ],\n",
              "       [0.53837746, 0.46162254],\n",
              "       [0.53062019, 0.46937981],\n",
              "       [0.54611621, 0.45388379],\n",
              "       [0.54095928, 0.45904072],\n",
              "       [0.54250734, 0.45749266],\n",
              "       [0.52958469, 0.47041531],\n",
              "       [0.51766031, 0.48233969],\n",
              "       [0.55588623, 0.44411377],\n",
              "       [0.53734414, 0.46265586],\n",
              "       [0.53682737, 0.46317263],\n",
              "       [0.55485971, 0.44514029],\n",
              "       [0.52958468, 0.47041532],\n",
              "       [0.53734414, 0.46265586],\n",
              "       [0.51194938, 0.48805062],\n",
              "       [0.55588624, 0.44411376],\n",
              "       [0.50883291, 0.49116709],\n",
              "       [0.56918459, 0.43081541],\n",
              "       [0.52232951, 0.47767049],\n",
              "       [0.52232951, 0.47767049],\n",
              "       [0.51973593, 0.48026407],\n",
              "       [0.52336662, 0.47663338],\n",
              "       [0.53734415, 0.46265585],\n",
              "       [0.56918459, 0.43081541],\n",
              "       [0.57071298, 0.42928702],\n",
              "       [0.50831342, 0.49168658],\n",
              "       [0.51662224, 0.48337776],\n",
              "       [0.53424232, 0.46575768],\n",
              "       [0.53786085, 0.46213915],\n",
              "       [0.54095929, 0.45904071],\n",
              "       [0.52595847, 0.47404153],\n",
              "       [0.51558406, 0.48441594],\n",
              "       [0.54817626, 0.45182374],\n",
              "       [0.5238851 , 0.4761149 ],\n",
              "       [0.51143002, 0.48856998],\n",
              "       [0.51921708, 0.48078292],\n",
              "       [0.52854892, 0.47145108],\n",
              "       [0.52803095, 0.47196905],\n",
              "       [0.51869819, 0.48130181],\n",
              "       [0.55383273, 0.44616727],\n",
              "       [0.52958469, 0.47041531],\n",
              "       [0.55588624, 0.44411376],\n",
              "       [0.51194937, 0.48805063],\n",
              "       [0.53372509, 0.46627491],\n",
              "       [0.51039125, 0.48960875],\n",
              "       [0.5445701 , 0.4554299 ],\n",
              "       [0.54095928, 0.45904072],\n",
              "       [0.5171413 , 0.4828587 ],\n",
              "       [0.53734415, 0.46265585],\n",
              "       [0.52025475, 0.47974525],\n",
              "       [0.51610316, 0.48389684],\n",
              "       [0.53631051, 0.46368949],\n",
              "       [0.54095929, 0.45904071],\n",
              "       [0.5419914 , 0.4580086 ],\n",
              "       [0.54147538, 0.45852462],\n",
              "       [0.54405455, 0.45594545],\n",
              "       [0.52025475, 0.47974525],\n",
              "       [0.54560094, 0.45439906],\n",
              "       [0.54560094, 0.45439906],\n",
              "       [0.57732012, 0.42267988],\n",
              "       [0.53372509, 0.46627491],\n",
              "       [0.52803095, 0.47196905],\n",
              "       [0.52232951, 0.47767049],\n",
              "       [0.52699483, 0.47300517],\n",
              "       [0.51558406, 0.48441594],\n",
              "       [0.52232951, 0.47767049],\n",
              "       [0.52699483, 0.47300517],\n",
              "       [0.52803095, 0.47196905],\n",
              "       [0.56101153, 0.43898847]])"
            ]
          },
          "metadata": {},
          "execution_count": 108
        }
      ]
    },
    {
      "cell_type": "code",
      "source": [
        "logistic_regression.predict(x_test)"
      ],
      "metadata": {
        "colab": {
          "base_uri": "https://localhost:8080/"
        },
        "id": "L6MBEpt-e93Q",
        "outputId": "abeb7456-ff00-421e-f079-23e53a8c589a"
      },
      "execution_count": 109,
      "outputs": [
        {
          "output_type": "execute_result",
          "data": {
            "text/plain": [
              "array([0, 0, 0, 0, 0, 0, 0, 0, 0, 0, 0, 0, 0, 0, 0, 0, 0, 0, 0, 0, 0, 0,\n",
              "       0, 0, 0, 0, 0, 0, 0, 0, 0, 0, 0, 0, 0, 0, 0, 0, 0, 0, 0, 0, 0, 0,\n",
              "       0, 0, 0, 0, 0, 0, 0, 0, 0, 0, 0, 0, 0, 0, 0, 0, 0, 0, 0, 0, 0, 0,\n",
              "       0, 0, 0, 0, 0, 0, 0, 0, 0, 0, 0, 0, 0, 0, 0, 0, 0, 0, 0, 0, 0, 0,\n",
              "       0, 0, 0, 0, 0, 0, 0, 0, 0, 0, 0, 0])"
            ]
          },
          "metadata": {},
          "execution_count": 109
        }
      ]
    },
    {
      "cell_type": "code",
      "source": [
        "logistic_regression.predict_proba(x_test)"
      ],
      "metadata": {
        "colab": {
          "base_uri": "https://localhost:8080/"
        },
        "id": "Uo1qQ5pi7Gxx",
        "outputId": "51872260-8ae6-4d95-ecef-8286cfed7dcd"
      },
      "execution_count": 110,
      "outputs": [
        {
          "output_type": "execute_result",
          "data": {
            "text/plain": [
              "array([[0.54508557, 0.45491443],\n",
              "       [0.52595847, 0.47404153],\n",
              "       [0.538894  , 0.461106  ],\n",
              "       [0.54095928, 0.45904072],\n",
              "       [0.52595847, 0.47404153],\n",
              "       [0.51039124, 0.48960876],\n",
              "       [0.50779393, 0.49220607],\n",
              "       [0.57427396, 0.42572604],\n",
              "       [0.53527656, 0.46472344],\n",
              "       [0.52232952, 0.47767048],\n",
              "       [0.5254402 , 0.4745598 ],\n",
              "       [0.52854892, 0.47145108],\n",
              "       [0.52854892, 0.47145108],\n",
              "       [0.53992681, 0.46007319],\n",
              "       [0.5445701 , 0.4554299 ],\n",
              "       [0.56049957, 0.43950043],\n",
              "       [0.53992681, 0.46007319],\n",
              "       [0.54405455, 0.45594545],\n",
              "       [0.56714469, 0.43285531],\n",
              "       [0.51143002, 0.48856998],\n",
              "       [0.52440351, 0.47559649],\n",
              "       [0.57427396, 0.42572604],\n",
              "       [0.52647668, 0.47352332],\n",
              "       [0.55434628, 0.44565372],\n",
              "       [0.51454572, 0.48545428],\n",
              "       [0.57274875, 0.42725125],\n",
              "       [0.54508557, 0.45491443],\n",
              "       [0.54147539, 0.45852461],\n",
              "       [0.53217295, 0.46782705],\n",
              "       [0.54457011, 0.45542989],\n",
              "       [0.54560093, 0.45439907],\n",
              "       [0.54095929, 0.45904071],\n",
              "       [0.53113785, 0.46886215],\n",
              "       [0.52751292, 0.47248708],\n",
              "       [0.53010246, 0.46989754],\n",
              "       [0.52699482, 0.47300518],\n",
              "       [0.5419914 , 0.4580086 ],\n",
              "       [0.52232951, 0.47767049],\n",
              "       [0.5176603 , 0.4823397 ],\n",
              "       [0.51869821, 0.48130179],\n",
              "       [0.54560093, 0.45439907],\n",
              "       [0.52699483, 0.47300517],\n",
              "       [0.5435389 , 0.4564611 ],\n",
              "       [0.51039125, 0.48960875],\n",
              "       [0.55793785, 0.44206215],\n",
              "       [0.53010246, 0.46989754],\n",
              "       [0.54147539, 0.45852461],\n",
              "       [0.54663137, 0.45336863],\n",
              "       [0.51558405, 0.48441595],\n",
              "       [0.54457012, 0.45542988],\n",
              "       [0.5630581 , 0.4369419 ],\n",
              "       [0.512988  , 0.487012  ],\n",
              "       [0.52958468, 0.47041532],\n",
              "       [0.55947526, 0.44052474],\n",
              "       [0.54560095, 0.45439905],\n",
              "       [0.51662225, 0.48337775],\n",
              "       [0.54302316, 0.45697684],\n",
              "       [0.54147538, 0.45852462],\n",
              "       [0.51454573, 0.48545427],\n",
              "       [0.51039124, 0.48960876],\n",
              "       [0.50935238, 0.49064762],\n",
              "       [0.5218109 , 0.4781891 ],\n",
              "       [0.53941044, 0.46058956],\n",
              "       [0.55126324, 0.44873676],\n",
              "       [0.51350726, 0.48649274],\n",
              "       [0.54302318, 0.45697682],\n",
              "       [0.54611619, 0.45388381],\n",
              "       [0.53010246, 0.46989754],\n",
              "       [0.52440352, 0.47559648],\n",
              "       [0.53631052, 0.46368948],\n",
              "       [0.57732011, 0.42267989],\n",
              "       [0.53992681, 0.46007319],\n",
              "       [0.53269039, 0.46730961],\n",
              "       [0.51143003, 0.48856997],\n",
              "       [0.54611619, 0.45388381],\n",
              "       [0.54250732, 0.45749268],\n",
              "       [0.54095929, 0.45904071],\n",
              "       [0.53113784, 0.46886216],\n",
              "       [0.51766031, 0.48233969],\n",
              "       [0.55537304, 0.44462696],\n",
              "       [0.57427397, 0.42572603],\n",
              "       [0.54302318, 0.45697682],\n",
              "       [0.52854892, 0.47145108],\n",
              "       [0.51817926, 0.48182074],\n",
              "       [0.51973595, 0.48026405],\n",
              "       [0.54147539, 0.45852461],\n",
              "       [0.538894  , 0.461106  ],\n",
              "       [0.56714469, 0.43285531],\n",
              "       [0.52129222, 0.47870778],\n",
              "       [0.53113784, 0.46886216],\n",
              "       [0.53320778, 0.46679222],\n",
              "       [0.57528998, 0.42471002],\n",
              "       [0.52492188, 0.47507812],\n",
              "       [0.51714129, 0.48285871],\n",
              "       [0.5435389 , 0.4564611 ],\n",
              "       [0.54972022, 0.45027978],\n",
              "       [0.53269039, 0.46730961],\n",
              "       [0.5171413 , 0.4828587 ],\n",
              "       [0.54663137, 0.45336863],\n",
              "       [0.55383272, 0.44616728]])"
            ]
          },
          "metadata": {},
          "execution_count": 110
        }
      ]
    },
    {
      "cell_type": "code",
      "source": [
        "logistic_regression.coef_"
      ],
      "metadata": {
        "colab": {
          "base_uri": "https://localhost:8080/"
        },
        "id": "GXSgg4a47ZeC",
        "outputId": "2e163f4a-484f-45dd-94dc-337d6c22869b"
      },
      "execution_count": 111,
      "outputs": [
        {
          "output_type": "execute_result",
          "data": {
            "text/plain": [
              "array([[-2.23102744e-09, -2.07854462e-06]])"
            ]
          },
          "metadata": {},
          "execution_count": 111
        }
      ]
    },
    {
      "cell_type": "code",
      "source": [
        "logistic_regression.intercept_"
      ],
      "metadata": {
        "colab": {
          "base_uri": "https://localhost:8080/"
        },
        "id": "PSNO5V3n7ZQ2",
        "outputId": "48033a7a-c30e-47af-abf1-18e389efab50"
      },
      "execution_count": 112,
      "outputs": [
        {
          "output_type": "execute_result",
          "data": {
            "text/plain": [
              "array([-2.12654828e-10])"
            ]
          },
          "metadata": {},
          "execution_count": 112
        }
      ]
    },
    {
      "cell_type": "markdown",
      "metadata": {
        "id": "0DpkLwdRlvXX"
      },
      "source": [
        "**Step 3 | Predection**"
      ]
    },
    {
      "cell_type": "code",
      "metadata": {
        "id": "5X1PxviQlp0C"
      },
      "source": [
        "y_pred=logistic_regression.predict(x_test)"
      ],
      "execution_count": 113,
      "outputs": []
    },
    {
      "cell_type": "markdown",
      "metadata": {
        "id": "vdX1IU-Fl7Ak"
      },
      "source": [
        "**Step 4 | Evaluating The Predection**"
      ]
    },
    {
      "cell_type": "markdown",
      "metadata": {
        "id": "zPdZLTTQmqa9"
      },
      "source": [
        "We predicted the test results and now we will evaluate if our logistic regression model learned and understood correctly. So this confusion matrix is going to contain the correct predictions that our model made on the set as well as the incorrect predictions."
      ]
    },
    {
      "cell_type": "markdown",
      "metadata": {
        "id": "bxjKgSYvmBDn"
      },
      "source": [
        "**Making the Confusion Matrix**"
      ]
    },
    {
      "cell_type": "code",
      "metadata": {
        "id": "2_afjfcjlp88",
        "colab": {
          "base_uri": "https://localhost:8080/",
          "height": 351
        },
        "outputId": "c28bbcd4-170c-4b23-d9d3-dd1479de65e2"
      },
      "source": [
        "from sklearn.metrics import plot_roc_curve, roc_curve, roc_auc_score, confusion_matrix, f1_score\n",
        "#confusion_matrix(y_test,y_pred)\n",
        "#f1_score(y_test,y_pred)\n",
        "#logistic_regression.score(x_test,y_test)\n",
        "plot_roc_curve(logistic_regression, x_test, y_test)"
      ],
      "execution_count": 114,
      "outputs": [
        {
          "output_type": "stream",
          "name": "stderr",
          "text": [
            "/usr/local/lib/python3.7/dist-packages/sklearn/utils/deprecation.py:87: FutureWarning: Function plot_roc_curve is deprecated; Function :func:`plot_roc_curve` is deprecated in 1.0 and will be removed in 1.2. Use one of the class methods: :meth:`sklearn.metric.RocCurveDisplay.from_predictions` or :meth:`sklearn.metric.RocCurveDisplay.from_estimator`.\n",
            "  warnings.warn(msg, category=FutureWarning)\n"
          ]
        },
        {
          "output_type": "execute_result",
          "data": {
            "text/plain": [
              "<sklearn.metrics._plot.roc_curve.RocCurveDisplay at 0x7fb12c2a3450>"
            ]
          },
          "metadata": {},
          "execution_count": 114
        },
        {
          "output_type": "display_data",
          "data": {
            "text/plain": [
              "<Figure size 432x288 with 1 Axes>"
            ],
            "image/png": "[encoded data removed]"
          },
          "metadata": {
            "needs_background": "light"
          }
        }
      ]
    },
    {
      "cell_type": "code",
      "source": [
        "confusion_matrix = pd.crosstab(y_test, y_pred, rownames=['Actual'], colnames=['Predicted'])\n",
        "sn.heatmap(confusion_matrix, annot=True)"
      ],
      "metadata": {
        "colab": {
          "base_uri": "https://localhost:8080/",
          "height": 296
        },
        "id": "x2TjG43U_Oo3",
        "outputId": "dbc78e64-1f3b-4cc6-f8bc-0e55838a570d"
      },
      "execution_count": 115,
      "outputs": [
        {
          "output_type": "execute_result",
          "data": {
            "text/plain": [
              "<matplotlib.axes._subplots.AxesSubplot at 0x7fb12c210950>"
            ]
          },
          "metadata": {},
          "execution_count": 115
        },
        {
          "output_type": "display_data",
          "data": {
            "text/plain": [
              "<Figure size 432x288 with 2 Axes>"
            ],
            "image/png": "[encoded data removed]"
          },
          "metadata": {
            "needs_background": "light"
          }
        }
      ]
    },
    {
      "cell_type": "markdown",
      "metadata": {
        "id": "DARs2T8GmG3v"
      },
      "source": [
        "**Visualization**"
      ]
    },
    {
      "cell_type": "code",
      "source": [
        "predictions = {\"x_train_points\": x_train[:,1],\n",
        "                 \"x_train_probability_being_class_1\": logistic_regression.predict_proba(x_train)[:,1]}\n",
        "df_predictions = pd.DataFrame(predictions)\n",
        "df_predictions\n"
      ],
      "metadata": {
        "colab": {
          "base_uri": "https://localhost:8080/",
          "height": 424
        },
        "id": "bYnoD9SmcyVe",
        "outputId": "d00019a0-836e-4244-e844-fc3d153826e5"
      },
      "execution_count": 120,
      "outputs": [
        {
          "output_type": "execute_result",
          "data": {
            "text/plain": [
              "     x_train_points  x_train_probability_being_class_1\n",
              "0             39000                           0.479745\n",
              "1            120000                           0.437965\n",
              "2             50000                           0.474042\n",
              "3            135000                           0.430306\n",
              "4             21000                           0.489089\n",
              "..              ...                                ...\n",
              "295           30000                           0.484416\n",
              "296           43000                           0.477670\n",
              "297           52000                           0.473005\n",
              "298           54000                           0.471969\n",
              "299          118000                           0.438988\n",
              "\n",
              "[300 rows x 2 columns]"
            ],
            "text/html": [
              "\n",
              "  <div id=\"df-ba2fe98a-a837-4eb8-94af-35bed4c30829\">\n",
              "    <div class=\"colab-df-container\">\n",
              "      <div>\n",
              "<style scoped>\n",
              "    .dataframe tbody tr th:only-of-type {\n",
              "        vertical-align: middle;\n",
              "    }\n",
              "\n",
              "    .dataframe tbody tr th {\n",
              "        vertical-align: top;\n",
              "    }\n",
              "\n",
              "    .dataframe thead th {\n",
              "        text-align: right;\n",
              "    }\n",
              "</style>\n",
              "<table border=\"1\" class=\"dataframe\">\n",
              "  <thead>\n",
              "    <tr style=\"text-align: right;\">\n",
              "      <th></th>\n",
              "      <th>x_train_points</th>\n",
              "      <th>x_train_probability_being_class_1</th>\n",
              "    </tr>\n",
              "  </thead>\n",
              "  <tbody>\n",
              "    <tr>\n",
              "      <th>0</th>\n",
              "      <td>39000</td>\n",
              "      <td>0.479745</td>\n",
              "    </tr>\n",
              "    <tr>\n",
              "      <th>1</th>\n",
              "      <td>120000</td>\n",
              "      <td>0.437965</td>\n",
              "    </tr>\n",
              "    <tr>\n",
              "      <th>2</th>\n",
              "      <td>50000</td>\n",
              "      <td>0.474042</td>\n",
              "    </tr>\n",
              "    <tr>\n",
              "      <th>3</th>\n",
              "      <td>135000</td>\n",
              "      <td>0.430306</td>\n",
              "    </tr>\n",
              "    <tr>\n",
              "      <th>4</th>\n",
              "      <td>21000</td>\n",
              "      <td>0.489089</td>\n",
              "    </tr>\n",
              "    <tr>\n",
              "      <th>...</th>\n",
              "      <td>...</td>\n",
              "      <td>...</td>\n",
              "    </tr>\n",
              "    <tr>\n",
              "      <th>295</th>\n",
              "      <td>30000</td>\n",
              "      <td>0.484416</td>\n",
              "    </tr>\n",
              "    <tr>\n",
              "      <th>296</th>\n",
              "      <td>43000</td>\n",
              "      <td>0.477670</td>\n",
              "    </tr>\n",
              "    <tr>\n",
              "      <th>297</th>\n",
              "      <td>52000</td>\n",
              "      <td>0.473005</td>\n",
              "    </tr>\n",
              "    <tr>\n",
              "      <th>298</th>\n",
              "      <td>54000</td>\n",
              "      <td>0.471969</td>\n",
              "    </tr>\n",
              "    <tr>\n",
              "      <th>299</th>\n",
              "      <td>118000</td>\n",
              "      <td>0.438988</td>\n",
              "    </tr>\n",
              "  </tbody>\n",
              "</table>\n",
              "<p>300 rows × 2 columns</p>\n",
              "</div>\n",
              "      <button class=\"colab-df-convert\" onclick=\"convertToInteractive('df-ba2fe98a-a837-4eb8-94af-35bed4c30829')\"\n",
              "              title=\"Convert this dataframe to an interactive table.\"\n",
              "              style=\"display:none;\">\n",
              "        \n",
              "  <svg xmlns=\"http://www.w3.org/2000/svg\" height=\"24px\"viewBox=\"0 0 24 24\"\n",
              "       width=\"24px\">\n",
              "    <path d=\"M0 0h24v24H0V0z\" fill=\"none\"/>\n",
              "    <path d=\"M18.56 5.44l.94 2.06.94-2.06 2.06-.94-2.06-.94-.94-2.06-.94 2.06-2.06.94zm-11 1L8.5 8.5l.94-2.06 2.06-.94-2.06-.94L8.5 2.5l-.94 2.06-2.06.94zm10 10l.94 2.06.94-2.06 2.06-.94-2.06-.94-.94-2.06-.94 2.06-2.06.94z\"/><path d=\"M17.41 7.96l-1.37-1.37c-.4-.4-.92-.59-1.43-.59-.52 0-1.04.2-1.43.59L10.3 9.45l-7.72 7.72c-.78.78-.78 2.05 0 2.83L4 21.41c.39.39.9.59 1.41.59.51 0 1.02-.2 1.41-.59l7.78-7.78 2.81-2.81c.8-.78.8-2.07 0-2.86zM5.41 20L4 18.59l7.72-7.72 1.47 1.35L5.41 20z\"/>\n",
              "  </svg>\n",
              "      </button>\n",
              "      \n",
              "  <style>\n",
              "    .colab-df-container {\n",
              "      display:flex;\n",
              "      flex-wrap:wrap;\n",
              "      gap: 12px;\n",
              "    }\n",
              "\n",
              "    .colab-df-convert {\n",
              "      background-color: #E8F0FE;\n",
              "      border: none;\n",
              "      border-radius: 50%;\n",
              "      cursor: pointer;\n",
              "      display: none;\n",
              "      fill: #1967D2;\n",
              "      height: 32px;\n",
              "      padding: 0 0 0 0;\n",
              "      width: 32px;\n",
              "    }\n",
              "\n",
              "    .colab-df-convert:hover {\n",
              "      background-color: #E2EBFA;\n",
              "      box-shadow: 0px 1px 2px rgba(60, 64, 67, 0.3), 0px 1px 3px 1px rgba(60, 64, 67, 0.15);\n",
              "      fill: #174EA6;\n",
              "    }\n",
              "\n",
              "    [theme=dark] .colab-df-convert {\n",
              "      background-color: #3B4455;\n",
              "      fill: #D2E3FC;\n",
              "    }\n",
              "\n",
              "    [theme=dark] .colab-df-convert:hover {\n",
              "      background-color: #434B5C;\n",
              "      box-shadow: 0px 1px 3px 1px rgba(0, 0, 0, 0.15);\n",
              "      filter: drop-shadow(0px 1px 2px rgba(0, 0, 0, 0.3));\n",
              "      fill: #FFFFFF;\n",
              "    }\n",
              "  </style>\n",
              "\n",
              "      <script>\n",
              "        const buttonEl =\n",
              "          document.querySelector('#df-ba2fe98a-a837-4eb8-94af-35bed4c30829 button.colab-df-convert');\n",
              "        buttonEl.style.display =\n",
              "          google.colab.kernel.accessAllowed ? 'block' : 'none';\n",
              "\n",
              "        async function convertToInteractive(key) {\n",
              "          const element = document.querySelector('#df-ba2fe98a-a837-4eb8-94af-35bed4c30829');\n",
              "          const dataTable =\n",
              "            await google.colab.kernel.invokeFunction('convertToInteractive',\n",
              "                                                     [key], {});\n",
              "          if (!dataTable) return;\n",
              "\n",
              "          const docLinkHtml = 'Like what you see? Visit the ' +\n",
              "            '<a target=\"_blank\" href=https://colab.research.google.com/notebooks/data_table.ipynb>data table notebook</a>'\n",
              "            + ' to learn more about interactive tables.';\n",
              "          element.innerHTML = '';\n",
              "          dataTable['output_type'] = 'display_data';\n",
              "          await google.colab.output.renderOutput(dataTable, element);\n",
              "          const docLink = document.createElement('div');\n",
              "          docLink.innerHTML = docLinkHtml;\n",
              "          element.appendChild(docLink);\n",
              "        }\n",
              "      </script>\n",
              "    </div>\n",
              "  </div>\n",
              "  "
            ]
          },
          "metadata": {},
          "execution_count": 120
        }
      ]
    },
    {
      "cell_type": "code",
      "metadata": {
        "id": "v_qMnhVilqBW",
        "colab": {
          "base_uri": "https://localhost:8080/",
          "height": 653
        },
        "outputId": "9f9ae1a4-98c2-41a5-949e-2b134079be00"
      },
      "source": [
        "ax = df_predictions.plot.scatter(x=\"x_train_points\", y=\"x_train_probability_being_class_1\", figsize=(10, 10), c='blueviolet')\n",
        "plt.title(\"Predictions on Training Data\", y=1.015, fontsize=20)"
      ],
      "execution_count": 122,
      "outputs": [
        {
          "output_type": "execute_result",
          "data": {
            "text/plain": [
              "Text(0.5, 1.015, 'Predictions on Training Data')"
            ]
          },
          "metadata": {},
          "execution_count": 122
        },
        {
          "output_type": "display_data",
          "data": {
            "text/plain": [
              "<Figure size 720x720 with 1 Axes>"
            ],
            "image/png": "[encoded data removed]"
          },
          "metadata": {
            "needs_background": "light"
          }
        }
      ]
    },
    {
      "cell_type": "code",
      "metadata": {
        "id": "QBiu7oxRlqGj"
      },
      "source": [
        ""
      ],
      "execution_count": null,
      "outputs": []
    },
    {
      "cell_type": "code",
      "metadata": {
        "id": "qLGVB79kj8KK"
      },
      "source": [
        ""
      ],
      "execution_count": null,
      "outputs": []
    }
  ]
}